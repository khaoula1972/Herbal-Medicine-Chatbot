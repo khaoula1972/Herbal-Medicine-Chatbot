{
 "cells": [
  {
   "cell_type": "code",
   "execution_count": 1,
   "id": "c414afa4-aad6-433d-9cf5-8ea8b12c0ae7",
   "metadata": {},
   "outputs": [
    {
     "name": "stdout",
     "output_type": "stream",
     "text": [
      "Hello to our notebook\n"
     ]
    }
   ],
   "source": [
    "print(\"Hello to our notebook\")"
   ]
  },
  {
   "cell_type": "markdown",
   "id": "ec866eac-e101-4697-b115-09531f324780",
   "metadata": {},
   "source": [
    "## Importation"
   ]
  },
  {
   "cell_type": "code",
   "execution_count": 9,
   "id": "9443fbd4-024d-48f9-9268-dc9d331fb68e",
   "metadata": {},
   "outputs": [],
   "source": [
    "from langchain import PromptTemplate\n",
    "from langchain.chains import RetrievalQA\n",
    "from langchain.embeddings import HuggingFaceEmbeddings\n",
    "from langchain.vectorstores import Pinecone\n",
    "import pinecone\n",
    "from langchain.document_loaders import PyPDFLoader, DirectoryLoader #for the pdf file\n",
    "from langchain.text_splitter import RecursiveCharacterTextSplitter\n",
    "from langchain.prompts import PromptTemplate\n",
    "from langchain.llms import CTransformers"
   ]
  },
  {
   "cell_type": "markdown",
   "id": "e78667f4-9aea-4857-b7c6-acd2aab92060",
   "metadata": {},
   "source": [
    "## Download data"
   ]
  },
  {
   "cell_type": "code",
   "execution_count": 5,
   "id": "721bb9c3-1980-4481-a7b7-3afb17a7a7d4",
   "metadata": {},
   "outputs": [],
   "source": [
    "!mkdir data"
   ]
  },
  {
   "cell_type": "code",
   "execution_count": 6,
   "id": "352dfedd-03f6-4bbd-b6ca-41039e7aa768",
   "metadata": {},
   "outputs": [
    {
     "name": "stdout",
     "output_type": "stream",
     "text": [
      "--2024-07-27 01:55:34--  https://ia800907.us.archive.org/21/items/IndianHerbalRemedies_201903/Handbook%20of%20Medicinal%20Herbs.pdf\n",
      "Resolving ia800907.us.archive.org (ia800907.us.archive.org)... 207.241.233.67\n",
      "Connecting to ia800907.us.archive.org (ia800907.us.archive.org)|207.241.233.67|:443... connected.\n",
      "HTTP request sent, awaiting response... 200 OK\n",
      "Length: 8011621 (7.6M) [application/pdf]\n",
      "Saving to: ‘Handbook of Medicinal Herbs.pdf’\n",
      "\n",
      "Handbook of Medicin 100%[===================>]   7.64M   293KB/s    in 36s     \n",
      "\n",
      "2024-07-27 01:56:14 (219 KB/s) - ‘Handbook of Medicinal Herbs.pdf’ saved [8011621/8011621]\n",
      "\n"
     ]
    }
   ],
   "source": [
    "!cd data\n",
    "!wget https://ia800907.us.archive.org/21/items/IndianHerbalRemedies_201903/Handbook%20of%20Medicinal%20Herbs.pdf"
   ]
  },
  {
   "cell_type": "code",
   "execution_count": 7,
   "id": "44d00c6d-0992-44c6-abde-538de691c5ea",
   "metadata": {},
   "outputs": [
    {
     "name": "stdout",
     "output_type": "stream",
     "text": [
      "/home/khaoula1972/Herbal-Medicine-Chatbot-using-Llama2\n"
     ]
    }
   ],
   "source": [
    "!pwd"
   ]
  },
  {
   "cell_type": "markdown",
   "id": "73f57c0d-91de-46f1-b8ee-875e7c3a7c14",
   "metadata": {},
   "source": [
    "## Pinecone variables"
   ]
  },
  {
   "cell_type": "code",
   "execution_count": 8,
   "id": "fb7a1cec-ad59-4b4e-a81b-1766916b78bf",
   "metadata": {},
   "outputs": [],
   "source": [
    "PINECONE_API_KEY = \"a4dc4d0f-f863-48fe-bd65-a02a2118e0b8\"\n",
    "# For the environnment, it's no longer necessary to have an environnement according to the pinecone support system"
   ]
  },
  {
   "cell_type": "markdown",
   "id": "057817d3-be40-4ceb-a03f-de17a2523e40",
   "metadata": {},
   "source": [
    "## Extract data from PDF"
   ]
  },
  {
   "cell_type": "code",
   "execution_count": 10,
   "id": "ede53bd7-f7e8-40ad-8a67-206f8333c74e",
   "metadata": {},
   "outputs": [],
   "source": [
    "def load_pdf(data):\n",
    "    loader = DirectoryLoader(data,\n",
    "                    glob=\"*.pdf\",\n",
    "                   loader_cls=PyPDFLoader)\n",
    "    documents=loader.load()\n",
    "    return documents"
   ]
  },
  {
   "cell_type": "code",
   "execution_count": 13,
   "id": "0df8f45a-1cc3-4c8d-829e-219db8d521fb",
   "metadata": {},
   "outputs": [],
   "source": [
    "extracted_data=load_pdf(\"data/\")"
   ]
  },
  {
   "cell_type": "markdown",
   "id": "8760d2a2-b100-4fa3-bb28-dac880385432",
   "metadata": {},
   "source": [
    "Now as we already created and extracted the data, we'll need to create text chunks"
   ]
  },
  {
   "cell_type": "markdown",
   "id": "cec476df-9dd1-4440-9ce0-257945b0e881",
   "metadata": {},
   "source": [
    "## Create text chunks"
   ]
  },
  {
   "cell_type": "code",
   "execution_count": 14,
   "id": "c07eee43-139d-473a-943b-6678006ee62a",
   "metadata": {},
   "outputs": [],
   "source": [
    "def text_split(extracted_data):\n",
    "    text_splitter = RecursiveCharacterTextSplitter(chunk_size=500, chunk_overlap = 20)\n",
    "    text_chunks=text_splitter.split_documents(extracted_data)\n",
    "    return text_chunks"
   ]
  },
  {
   "cell_type": "code",
   "execution_count": 15,
   "id": "36059382-d49b-43e3-9f28-838f1d674e78",
   "metadata": {},
   "outputs": [
    {
     "name": "stdout",
     "output_type": "stream",
     "text": [
      "length of chunks 7466\n"
     ]
    }
   ],
   "source": [
    "text_chunks=text_split(extracted_data)\n",
    "print(\"length of chunks\", len(text_chunks))"
   ]
  },
  {
   "cell_type": "markdown",
   "id": "876437bf-958f-479f-9c4f-4318a5255547",
   "metadata": {},
   "source": [
    "## Vector embedding"
   ]
  },
  {
   "cell_type": "code",
   "execution_count": 16,
   "id": "0c0c38d2-992e-4af2-8288-9b08ed8f4c4f",
   "metadata": {},
   "outputs": [],
   "source": [
    "# download embedding model\n",
    "def download_hugging_face_embeddings():\n",
    "    embeddings = HuggingFaceEmbeddings(model_name=\"sentence-transformers/all-MiniLM-L6-v2\")\n",
    "    return embeddings"
   ]
  },
  {
   "cell_type": "code",
   "execution_count": 17,
   "id": "e16cd58e-2112-4e0d-b09b-96ddb76360f0",
   "metadata": {},
   "outputs": [
    {
     "name": "stderr",
     "output_type": "stream",
     "text": [
      "/home/khaoula1972/Herbal-Medicine-Chatbot-using-Llama2/HerbMedBot/lib/python3.8/site-packages/huggingface_hub/utils/_deprecation.py:131: FutureWarning: 'cached_download' (from 'huggingface_hub.file_download') is deprecated and will be removed from version '0.26'. Use `hf_hub_download` instead.\n",
      "  warnings.warn(warning_message, FutureWarning)\n"
     ]
    },
    {
     "data": {
      "application/vnd.jupyter.widget-view+json": {
       "model_id": "9a0217f51f4a49daa534a5805b36bf53",
       "version_major": 2,
       "version_minor": 0
      },
      "text/plain": [
       ".gitattributes:   0%|          | 0.00/1.23k [00:00<?, ?B/s]"
      ]
     },
     "metadata": {},
     "output_type": "display_data"
    },
    {
     "data": {
      "application/vnd.jupyter.widget-view+json": {
       "model_id": "9ff2f4602aac4df2a1564ba01b109b1b",
       "version_major": 2,
       "version_minor": 0
      },
      "text/plain": [
       "1_Pooling/config.json:   0%|          | 0.00/190 [00:00<?, ?B/s]"
      ]
     },
     "metadata": {},
     "output_type": "display_data"
    },
    {
     "data": {
      "application/vnd.jupyter.widget-view+json": {
       "model_id": "b0e85ffb56aa437daf70e7f37ab25848",
       "version_major": 2,
       "version_minor": 0
      },
      "text/plain": [
       "README.md:   0%|          | 0.00/10.7k [00:00<?, ?B/s]"
      ]
     },
     "metadata": {},
     "output_type": "display_data"
    },
    {
     "data": {
      "application/vnd.jupyter.widget-view+json": {
       "model_id": "91ca15bbe3234397a66452c3d8bc7986",
       "version_major": 2,
       "version_minor": 0
      },
      "text/plain": [
       "config.json:   0%|          | 0.00/612 [00:00<?, ?B/s]"
      ]
     },
     "metadata": {},
     "output_type": "display_data"
    },
    {
     "data": {
      "application/vnd.jupyter.widget-view+json": {
       "model_id": "dbb595c190644ddfb7283ee35d880f24",
       "version_major": 2,
       "version_minor": 0
      },
      "text/plain": [
       "config_sentence_transformers.json:   0%|          | 0.00/116 [00:00<?, ?B/s]"
      ]
     },
     "metadata": {},
     "output_type": "display_data"
    },
    {
     "data": {
      "application/vnd.jupyter.widget-view+json": {
       "model_id": "f80a03c80d3e4ce0ab7936912848e1fd",
       "version_major": 2,
       "version_minor": 0
      },
      "text/plain": [
       "data_config.json:   0%|          | 0.00/39.3k [00:00<?, ?B/s]"
      ]
     },
     "metadata": {},
     "output_type": "display_data"
    },
    {
     "data": {
      "application/vnd.jupyter.widget-view+json": {
       "model_id": "402c81012331460985acd4d7b8647f3a",
       "version_major": 2,
       "version_minor": 0
      },
      "text/plain": [
       "model.safetensors:   0%|          | 0.00/90.9M [00:00<?, ?B/s]"
      ]
     },
     "metadata": {},
     "output_type": "display_data"
    },
    {
     "data": {
      "application/vnd.jupyter.widget-view+json": {
       "model_id": "fb504e0dae5c4ceab26fcc1558b49d70",
       "version_major": 2,
       "version_minor": 0
      },
      "text/plain": [
       "model.onnx:   0%|          | 0.00/90.4M [00:00<?, ?B/s]"
      ]
     },
     "metadata": {},
     "output_type": "display_data"
    },
    {
     "data": {
      "application/vnd.jupyter.widget-view+json": {
       "model_id": "5345d6e52313418eb6a77303d0e0eee6",
       "version_major": 2,
       "version_minor": 0
      },
      "text/plain": [
       "pytorch_model.bin:   0%|          | 0.00/90.9M [00:00<?, ?B/s]"
      ]
     },
     "metadata": {},
     "output_type": "display_data"
    },
    {
     "data": {
      "application/vnd.jupyter.widget-view+json": {
       "model_id": "2f0ada542c8543a1b3ca7f5ef89ec310",
       "version_major": 2,
       "version_minor": 0
      },
      "text/plain": [
       "sentence_bert_config.json:   0%|          | 0.00/53.0 [00:00<?, ?B/s]"
      ]
     },
     "metadata": {},
     "output_type": "display_data"
    },
    {
     "data": {
      "application/vnd.jupyter.widget-view+json": {
       "model_id": "f0317380dfbc49998d13c4024f59b50d",
       "version_major": 2,
       "version_minor": 0
      },
      "text/plain": [
       "special_tokens_map.json:   0%|          | 0.00/112 [00:00<?, ?B/s]"
      ]
     },
     "metadata": {},
     "output_type": "display_data"
    },
    {
     "data": {
      "application/vnd.jupyter.widget-view+json": {
       "model_id": "427761763e5449a6b7a6965f9639bbe1",
       "version_major": 2,
       "version_minor": 0
      },
      "text/plain": [
       "tokenizer.json:   0%|          | 0.00/466k [00:00<?, ?B/s]"
      ]
     },
     "metadata": {},
     "output_type": "display_data"
    },
    {
     "data": {
      "application/vnd.jupyter.widget-view+json": {
       "model_id": "cfb0074717264f17a841d95b0c6b1ae6",
       "version_major": 2,
       "version_minor": 0
      },
      "text/plain": [
       "tokenizer_config.json:   0%|          | 0.00/350 [00:00<?, ?B/s]"
      ]
     },
     "metadata": {},
     "output_type": "display_data"
    },
    {
     "data": {
      "application/vnd.jupyter.widget-view+json": {
       "model_id": "5a63409488564d789991bcf27ea63da3",
       "version_major": 2,
       "version_minor": 0
      },
      "text/plain": [
       "train_script.py:   0%|          | 0.00/13.2k [00:00<?, ?B/s]"
      ]
     },
     "metadata": {},
     "output_type": "display_data"
    },
    {
     "data": {
      "application/vnd.jupyter.widget-view+json": {
       "model_id": "46a942ba1da84a8eb2f82506ab592ed1",
       "version_major": 2,
       "version_minor": 0
      },
      "text/plain": [
       "vocab.txt:   0%|          | 0.00/232k [00:00<?, ?B/s]"
      ]
     },
     "metadata": {},
     "output_type": "display_data"
    },
    {
     "data": {
      "application/vnd.jupyter.widget-view+json": {
       "model_id": "163a6ab5f2594717b47a699adf667857",
       "version_major": 2,
       "version_minor": 0
      },
      "text/plain": [
       "modules.json:   0%|          | 0.00/349 [00:00<?, ?B/s]"
      ]
     },
     "metadata": {},
     "output_type": "display_data"
    }
   ],
   "source": [
    "embedding = download_hugging_face_embeddings()"
   ]
  },
  {
   "cell_type": "code",
   "execution_count": 18,
   "id": "cfd3283b-7b84-4ba5-8d68-9ddc5cbd50d0",
   "metadata": {},
   "outputs": [
    {
     "data": {
      "text/plain": [
       "HuggingFaceEmbeddings(client=SentenceTransformer(\n",
       "  (0): Transformer({'max_seq_length': 256, 'do_lower_case': False}) with Transformer model: BertModel \n",
       "  (1): Pooling({'word_embedding_dimension': 384, 'pooling_mode_cls_token': False, 'pooling_mode_mean_tokens': True, 'pooling_mode_max_tokens': False, 'pooling_mode_mean_sqrt_len_tokens': False})\n",
       "  (2): Normalize()\n",
       "), model_name='sentence-transformers/all-MiniLM-L6-v2', cache_folder=None, model_kwargs={}, encode_kwargs={})"
      ]
     },
     "execution_count": 18,
     "metadata": {},
     "output_type": "execute_result"
    }
   ],
   "source": [
    "embedding"
   ]
  },
  {
   "cell_type": "code",
   "execution_count": 20,
   "id": "49acc55a-0791-4e7f-93c0-c1b5db43127a",
   "metadata": {},
   "outputs": [
    {
     "name": "stdout",
     "output_type": "stream",
     "text": [
      "384\n"
     ]
    }
   ],
   "source": [
    "# testing the embedding model\n",
    "query_result = embedding.embed_query(\"Hello world\")\n",
    "print(len(query_result))"
   ]
  },
  {
   "cell_type": "code",
   "execution_count": 21,
   "id": "3e027e72-6d65-49cc-bad1-216d60622f83",
   "metadata": {},
   "outputs": [
    {
     "data": {
      "text/plain": [
       "[-0.034477315843105316,\n",
       " 0.031023172661662102,\n",
       " 0.006734910886734724,\n",
       " 0.02610892429947853,\n",
       " -0.03936195746064186,\n",
       " -0.1603025197982788,\n",
       " 0.06692396104335785,\n",
       " -0.006441440898925066,\n",
       " -0.04745054617524147,\n",
       " 0.014758836477994919,\n",
       " 0.07087532430887222,\n",
       " 0.055527545511722565,\n",
       " 0.01919332519173622,\n",
       " -0.026251299306750298,\n",
       " -0.01010951679199934,\n",
       " -0.026940451934933662,\n",
       " 0.022307397797703743,\n",
       " -0.022226639091968536,\n",
       " -0.1496926248073578,\n",
       " -0.01749303936958313,\n",
       " 0.007676327601075172,\n",
       " 0.054352276027202606,\n",
       " 0.0032544792629778385,\n",
       " 0.03172592446208,\n",
       " -0.08462144434452057,\n",
       " -0.029405953362584114,\n",
       " 0.05159562826156616,\n",
       " 0.048124104738235474,\n",
       " -0.003314818488433957,\n",
       " -0.05827919766306877,\n",
       " 0.04196928068995476,\n",
       " 0.02221069671213627,\n",
       " 0.12818878889083862,\n",
       " -0.02233896404504776,\n",
       " -0.011656257323920727,\n",
       " 0.06292840093374252,\n",
       " -0.03287629410624504,\n",
       " -0.09122602641582489,\n",
       " -0.031175386160612106,\n",
       " 0.05269954726099968,\n",
       " 0.047034841030836105,\n",
       " -0.08420310169458389,\n",
       " -0.030056146904826164,\n",
       " -0.020744822919368744,\n",
       " 0.009517822414636612,\n",
       " -0.0037217941135168076,\n",
       " 0.007343323435634375,\n",
       " 0.03932430222630501,\n",
       " 0.09327404201030731,\n",
       " -0.003788547357544303,\n",
       " -0.0527421198785305,\n",
       " -0.05805818736553192,\n",
       " -0.006864348892122507,\n",
       " 0.005283175501972437,\n",
       " 0.08289303630590439,\n",
       " 0.019362740218639374,\n",
       " 0.0062845125794410706,\n",
       " -0.010330763645470142,\n",
       " 0.009032384492456913,\n",
       " -0.03768375888466835,\n",
       " -0.04520605504512787,\n",
       " 0.024016302078962326,\n",
       " -0.006944123189896345,\n",
       " 0.013491673395037651,\n",
       " 0.10005496442317963,\n",
       " -0.0716838389635086,\n",
       " -0.021695099771022797,\n",
       " 0.031618449836969376,\n",
       " -0.051634691655635834,\n",
       " -0.08224774152040482,\n",
       " -0.06569334864616394,\n",
       " -0.009895352646708488,\n",
       " 0.005816369317471981,\n",
       " 0.07355460524559021,\n",
       " -0.03405030816793442,\n",
       " 0.02488608844578266,\n",
       " 0.0144880386069417,\n",
       " 0.026457371190190315,\n",
       " 0.00965668074786663,\n",
       " 0.030217230319976807,\n",
       " 0.052803948521614075,\n",
       " -0.07535988092422485,\n",
       " 0.009897170588374138,\n",
       " 0.02983679436147213,\n",
       " 0.01755552366375923,\n",
       " 0.023091983050107956,\n",
       " 0.0019338511629030108,\n",
       " 0.0014002013485878706,\n",
       " -0.047175996005535126,\n",
       " -0.011194296181201935,\n",
       " -0.11420141905546188,\n",
       " -0.01981193758547306,\n",
       " 0.04026622697710991,\n",
       " 0.0021929896902292967,\n",
       " -0.07979217171669006,\n",
       " -0.025382349267601967,\n",
       " 0.09448302537202835,\n",
       " -0.028981097042560577,\n",
       " -0.14500251412391663,\n",
       " 0.23097744584083557,\n",
       " 0.027731193229556084,\n",
       " 0.032111503183841705,\n",
       " 0.031064989045262337,\n",
       " 0.04283284395933151,\n",
       " 0.06423782557249069,\n",
       " 0.03216312825679779,\n",
       " -0.0048767318949103355,\n",
       " 0.05569940432906151,\n",
       " -0.037532366812229156,\n",
       " -0.02150554209947586,\n",
       " -0.028342653065919876,\n",
       " -0.028846969828009605,\n",
       " 0.03835304453969002,\n",
       " -0.017468653619289398,\n",
       " 0.052485376596450806,\n",
       " -0.07487601786851883,\n",
       " -0.03125973790884018,\n",
       " 0.021841607987880707,\n",
       " -0.03989560902118683,\n",
       " -0.00858708843588829,\n",
       " 0.02695661038160324,\n",
       " -0.04849547520279884,\n",
       " 0.01146987359970808,\n",
       " 0.029618192464113235,\n",
       " -0.020572224631905556,\n",
       " 0.013103857636451721,\n",
       " 0.028833499178290367,\n",
       " -3.1941979827962646e-33,\n",
       " 0.064782053232193,\n",
       " -0.018130194395780563,\n",
       " 0.051789894700050354,\n",
       " 0.12198271602392197,\n",
       " 0.028780169785022736,\n",
       " 0.00872202217578888,\n",
       " -0.07052113115787506,\n",
       " -0.01690724864602089,\n",
       " 0.04073973000049591,\n",
       " 0.042116161435842514,\n",
       " 0.02544720284640789,\n",
       " 0.0357462614774704,\n",
       " -0.049144722521305084,\n",
       " 0.0021290285512804985,\n",
       " -0.01554651279002428,\n",
       " 0.05073057860136032,\n",
       " -0.048185352236032486,\n",
       " 0.03588060289621353,\n",
       " -0.004067079164087772,\n",
       " 0.10172474384307861,\n",
       " -0.05597004294395447,\n",
       " -0.010681044310331345,\n",
       " 0.011235790327191353,\n",
       " 0.09068652242422104,\n",
       " 0.004234463442116976,\n",
       " 0.03513864800333977,\n",
       " -0.009702890180051327,\n",
       " -0.09386510401964188,\n",
       " 0.09285558015108109,\n",
       " 0.008004914969205856,\n",
       " -0.0077053699642419815,\n",
       " -0.0520867295563221,\n",
       " -0.012587993405759335,\n",
       " 0.003266903106123209,\n",
       " 0.0060135433450341225,\n",
       " 0.007581562269479036,\n",
       " 0.010517186485230923,\n",
       " -0.08634558320045471,\n",
       " -0.06987879425287247,\n",
       " -0.0025338977575302124,\n",
       " -0.09097658097743988,\n",
       " 0.046887289732694626,\n",
       " 0.05207657441496849,\n",
       " 0.007193864788860083,\n",
       " 0.010903616435825825,\n",
       " -0.005229519214481115,\n",
       " 0.013937349431216717,\n",
       " 0.02196834608912468,\n",
       " 0.034208595752716064,\n",
       " 0.06022465601563454,\n",
       " 0.00011663910117931664,\n",
       " 0.014731943607330322,\n",
       " -0.07008921355009079,\n",
       " 0.028499074280261993,\n",
       " -0.027601728215813637,\n",
       " 0.010768409818410873,\n",
       " 0.03483093902468681,\n",
       " -0.022487878799438477,\n",
       " 0.009769014082849026,\n",
       " 0.07722783088684082,\n",
       " 0.021588340401649475,\n",
       " 0.11495620757341385,\n",
       " -0.0680011585354805,\n",
       " 0.023761006072163582,\n",
       " -0.015983907505869865,\n",
       " -0.017826922237873077,\n",
       " 0.06439490616321564,\n",
       " 0.032025691121816635,\n",
       " 0.050270214676856995,\n",
       " -0.005913726985454559,\n",
       " -0.033708009868860245,\n",
       " 0.01784026063978672,\n",
       " 0.016573289409279823,\n",
       " 0.06329652667045593,\n",
       " 0.034677159041166306,\n",
       " 0.04647349193692207,\n",
       " 0.09790614992380142,\n",
       " -0.006635485216975212,\n",
       " 0.025206999853253365,\n",
       " -0.07798829674720764,\n",
       " 0.016926441341638565,\n",
       " -0.0009458065615035594,\n",
       " 0.02247190847992897,\n",
       " -0.03825321048498154,\n",
       " 0.09570479393005371,\n",
       " -0.005350802093744278,\n",
       " 0.010469064116477966,\n",
       " -0.11524055153131485,\n",
       " -0.01326246652752161,\n",
       " -0.010709411464631557,\n",
       " -0.0831172838807106,\n",
       " 0.07327356189489365,\n",
       " 0.04939223453402519,\n",
       " -0.008994348347187042,\n",
       " -0.09584560245275497,\n",
       " 3.3661485617505796e-33,\n",
       " 0.12493188679218292,\n",
       " 0.0193497147411108,\n",
       " -0.05822574347257614,\n",
       " -0.03598818928003311,\n",
       " -0.05074671283364296,\n",
       " -0.045662373304367065,\n",
       " -0.08260336518287659,\n",
       " 0.14819476008415222,\n",
       " -0.08842120319604874,\n",
       " 0.060274429619312286,\n",
       " 0.05103014409542084,\n",
       " 0.010303168557584286,\n",
       " 0.14121422171592712,\n",
       " 0.030813805758953094,\n",
       " 0.06103309988975525,\n",
       " -0.05285128578543663,\n",
       " 0.1366489678621292,\n",
       " 0.009189908392727375,\n",
       " -0.017325174063444138,\n",
       " -0.012848656624555588,\n",
       " -0.007995286025106907,\n",
       " -0.05098004639148712,\n",
       " -0.052350640296936035,\n",
       " 0.0075930031016469,\n",
       " -0.01516627799719572,\n",
       " 0.016960322856903076,\n",
       " 0.021270515397191048,\n",
       " 0.020558062940835953,\n",
       " -0.12002810835838318,\n",
       " 0.014461780898272991,\n",
       " 0.026759887114167213,\n",
       " 0.025330688804388046,\n",
       " -0.042754627764225006,\n",
       " 0.006768502295017242,\n",
       " -0.014458559453487396,\n",
       " 0.04526197165250778,\n",
       " -0.09147651493549347,\n",
       " -0.019439129158854485,\n",
       " -0.01783343218266964,\n",
       " -0.054910145699977875,\n",
       " -0.052641090005636215,\n",
       " -0.010459056124091148,\n",
       " -0.052016016095876694,\n",
       " 0.020892005413770676,\n",
       " -0.0799703523516655,\n",
       " -0.012111276388168335,\n",
       " -0.05773146077990532,\n",
       " 0.02317822352051735,\n",
       " -0.008031714707612991,\n",
       " -0.02598928101360798,\n",
       " -0.07995672523975372,\n",
       " -0.02072886750102043,\n",
       " 0.0488177090883255,\n",
       " -0.02038913033902645,\n",
       " -0.04917661100625992,\n",
       " 0.014159657061100006,\n",
       " -0.06362202018499374,\n",
       " -0.0078073651529848576,\n",
       " 0.01643151044845581,\n",
       " -0.025682523846626282,\n",
       " 0.013381090946495533,\n",
       " 0.026248810812830925,\n",
       " 0.009978415444493294,\n",
       " 0.06322888284921646,\n",
       " 0.002672172849997878,\n",
       " -0.0065827565267682076,\n",
       " 0.016631929203867912,\n",
       " 0.032366491854190826,\n",
       " 0.03794245049357414,\n",
       " -0.03637605160474777,\n",
       " -0.006910907570272684,\n",
       " 0.00015963036275934428,\n",
       " -0.0016335484106093645,\n",
       " -0.027278142049908638,\n",
       " -0.028038054704666138,\n",
       " 0.04968145489692688,\n",
       " -0.02886715531349182,\n",
       " -0.002418066607788205,\n",
       " 0.014774911105632782,\n",
       " 0.009764587506651878,\n",
       " 0.005797612480819225,\n",
       " 0.013486200012266636,\n",
       " 0.005567916203290224,\n",
       " 0.037227071821689606,\n",
       " 0.00723249139264226,\n",
       " 0.0401562824845314,\n",
       " 0.0815032422542572,\n",
       " 0.07199165970087051,\n",
       " -0.013056200928986073,\n",
       " -0.042882002890110016,\n",
       " -0.0110112139955163,\n",
       " 0.00489781703799963,\n",
       " -0.009229743853211403,\n",
       " 0.03519149869680405,\n",
       " -0.05103500187397003,\n",
       " -1.571437735492509e-08,\n",
       " -0.08862444013357162,\n",
       " 0.02390933223068714,\n",
       " -0.016238756477832794,\n",
       " 0.0317004956305027,\n",
       " 0.02728424407541752,\n",
       " 0.052468810230493546,\n",
       " -0.04707096144556999,\n",
       " -0.058847490698099136,\n",
       " -0.0632081851363182,\n",
       " 0.04088858887553215,\n",
       " 0.04982799291610718,\n",
       " 0.10655169934034348,\n",
       " -0.07450234144926071,\n",
       " -0.012495442293584347,\n",
       " 0.01837068982422352,\n",
       " 0.03947409614920616,\n",
       " -0.024797888472676277,\n",
       " 0.014516280964016914,\n",
       " -0.03706915304064751,\n",
       " 0.020015738904476166,\n",
       " -4.8577076086075976e-05,\n",
       " 0.009866570122539997,\n",
       " 0.02483874000608921,\n",
       " -0.052458181977272034,\n",
       " 0.02931421808898449,\n",
       " -0.08719193190336227,\n",
       " -0.01449969969689846,\n",
       " 0.026019055396318436,\n",
       " -0.018746361136436462,\n",
       " -0.07620514184236526,\n",
       " 0.03504330292344093,\n",
       " 0.10363954305648804,\n",
       " -0.02805054374039173,\n",
       " 0.012718209996819496,\n",
       " -0.07632549852132797,\n",
       " -0.01865239255130291,\n",
       " 0.024976717308163643,\n",
       " 0.08144529908895493,\n",
       " 0.06875890493392944,\n",
       " -0.06405667215585709,\n",
       " -0.08389384299516678,\n",
       " 0.06136239320039749,\n",
       " -0.033545538783073425,\n",
       " -0.10615337640047073,\n",
       " -0.04008055850863457,\n",
       " 0.03253018110990524,\n",
       " 0.07662487775087357,\n",
       " -0.0730162188410759,\n",
       " 0.00033754485775716603,\n",
       " -0.040871694684028625,\n",
       " -0.07578853517770767,\n",
       " 0.027527635917067528,\n",
       " 0.0746254101395607,\n",
       " 0.01771724410355091,\n",
       " 0.09121844917535782,\n",
       " 0.11022017151117325,\n",
       " 0.0005697705782949924,\n",
       " 0.05146333947777748,\n",
       " -0.014551302418112755,\n",
       " 0.033232029527425766,\n",
       " 0.023792268708348274,\n",
       " -0.022889861837029457,\n",
       " 0.03893749788403511,\n",
       " 0.030206803232431412]"
      ]
     },
     "execution_count": 21,
     "metadata": {},
     "output_type": "execute_result"
    }
   ],
   "source": [
    "query_result"
   ]
  },
  {
   "cell_type": "markdown",
   "id": "085cb9b7-d49a-4df9-9f49-8ba34d4c1f76",
   "metadata": {},
   "source": [
    "## Pinecone initialisation"
   ]
  },
  {
   "cell_type": "code",
   "execution_count": 34,
   "id": "903370e8-a179-495a-9e5d-7247fa217dab",
   "metadata": {},
   "outputs": [],
   "source": [
    "from pinecone import Pinecone\n",
    "\n",
    "pc = Pinecone(api_key=\"a4dc4d0f-f863-48fe-bd65-a02a2118e0b8\")\n",
    "index_list = pc.list_indexes()\n",
    "index = pc.Index(\"herbalmedicinechatbot\")"
   ]
  },
  {
   "cell_type": "code",
   "execution_count": 48,
   "id": "38b0403b-6251-4aae-af24-7ac5250e04b1",
   "metadata": {},
   "outputs": [],
   "source": [
    "# Given that our chunk size is 500, an ideal batch size for upserting to Pinecone would typically be smaller than your chunk size. The optimal batch size can vary depending on factors like your system's memory, network conditions, and Pinecone's current load. However, a good starting point would be a batch size between 100 to 200.\n",
    "batch_size = 100  # as advised\n",
    "for i in range(0, len(text_chunks), batch_size):\n",
    "    batch = text_chunks[i:i+batch_size]\n",
    "    ids = [f\"id_{j}\" for j in range(i, min(i+batch_size, len(text_chunks)))]\n",
    "    embeddings = embedding.embed_documents([chunk.page_content for chunk in batch])\n",
    "    metadata = [{\"text\": chunk.page_content} for chunk in batch]\n",
    "    \n",
    "    index.upsert(vectors=zip(ids, embeddings, metadata))"
   ]
  },
  {
   "cell_type": "code",
   "execution_count": 83,
   "id": "d9c205eb-b31b-4a47-ba72-4cf9acefa4a8",
   "metadata": {},
   "outputs": [],
   "source": [
    "# testing our index\n",
    "query_vector = embedding.embed_query(\"what is Mexican bamboo\")\n",
    "results = index.query(vector=query_vector, top_k=3, include_metadata=True)"
   ]
  },
  {
   "cell_type": "code",
   "execution_count": 84,
   "id": "ed1fa580-f0b7-4def-bb41-8a5d4786960e",
   "metadata": {},
   "outputs": [
    {
     "name": "stdout",
     "output_type": "stream",
     "text": [
      "{'matches': [{'id': 'id_7366',\n",
      "              'metadata': {'text': 'Mescal Bean (Texas Mountain Laurel); '\n",
      "                                   'Sophora \\n'\n",
      "                                   'secundiﬂora  (Ortega) Lag. ex DC. \\n'\n",
      "                                   '(Synonym: Broussonetia  secundiﬂora  \\n'\n",
      "                                   'Ortega), 499\\n'\n",
      "                                   'Mesquite (Ironwood); Prosopis juliﬂora  '\n",
      "                                   '(Sw.) DC., \\n'\n",
      "                                   '499\\n'\n",
      "                                   'Metel, Hindu Datura (Downy Thornapple, '\n",
      "                                   'Hindu \\n'\n",
      "                                   'Thornapple, Hoary Thornapple, Horn-of-\\n'\n",
      "                                   'Plenty, Purple Thornapple); Datura metel  '\n",
      "                                   'L \\n'\n",
      "                                   '(Synonyms: D. alba  Nees, D. chlorantha  \\n'\n",
      "                                   'Hook., D. fastuosa  L., D. metel  var. '\n",
      "                                   'fastuosa  \\n'\n",
      "                                   '(L.) Staff.), 500\\n'\n",
      "                                   'Mexican Calea, Dog’s Grass, Bitter Grass; '\n",
      "                                   'Calea'},\n",
      "              'score': 0.437223136,\n",
      "              'values': []},\n",
      "             {'id': 'id_7273',\n",
      "              'metadata': {'text': 'Chinese Cucumber (Chinese Snake Gourd); \\n'\n",
      "                                   'Trichosanthes kirilowii  Maxim., 186\\n'\n",
      "                                   'Chinese Motherwort; Leonurus japonicus  '\n",
      "                                   'Houtt. \\n'\n",
      "                                   '(Synonym: L. artemisia  (Lour.) S.Y . Hu, '\n",
      "                                   'L. \\n'\n",
      "                                   'heterophyllus  Sweet, L. sibiricus  auct. '\n",
      "                                   'pl., \\n'\n",
      "                                   'Stachys artemisia  Lour.), 187\\n'\n",
      "                                   'Chinese Olive (Java Almond, Kenari Nut '\n",
      "                                   'Tree); \\n'\n",
      "                                   'Canarium vulgare  Leenh. (Synonym: C. \\n'\n",
      "                                   'commune  auct.), 187\\n'\n",
      "                                   'Chinese Peony (Common Garden Peony, '\n",
      "                                   'White \\n'\n",
      "                                   'Peony); Paeonia lactiﬂora  Pall. '\n",
      "                                   '(Synonyms: \\n'\n",
      "                                   'P . edulis  Salisb., P . fragrans  '\n",
      "                                   'Redoute.), 188'},\n",
      "              'score': 0.396248221,\n",
      "              'values': []},\n",
      "             {'id': 'id_7289',\n",
      "              'metadata': {'text': 'Handbook of Medicinal Herbs 851\\n'\n",
      "                                   'Cypress Spurge; Euphorbia cyparissias  L., '\n",
      "                                   '238\\n'\n",
      "                                   'D\\n'\n",
      "                                   'Daffodil (Bunchﬂower Daffodil, Chinese '\n",
      "                                   'Sacred Lily, \\n'\n",
      "                                   'Polyanthus narcissus); Narcissus tazetta  '\n",
      "                                   'L. \\n'\n",
      "                                   '(Synonym: Narcissus canaliculatus  '\n",
      "                                   'Guss.), \\n'\n",
      "                                   '241\\n'\n",
      "                                   'Damiana (Mexican Holly); Turnera diffusa  '\n",
      "                                   'Willd. ex \\n'\n",
      "                                   'Schult. (Synonym: Turnera microphylla  \\n'\n",
      "                                   'Desv. ex Ham.), 242\\n'\n",
      "                                   'Dandelion (Lion’s Tooth); Taraxacum '\n",
      "                                   'ofﬁcinale  F. H. \\n'\n",
      "                                   'Wigg. group (Synonyms: Leontodon \\n'\n",
      "                                   'taraxacum  L., Taraxacum dens-leonis  '\n",
      "                                   'Desf., \\n'\n",
      "                                   'T. vulgare  Schrank), 243'},\n",
      "              'score': 0.375804424,\n",
      "              'values': []}],\n",
      " 'namespace': '',\n",
      " 'usage': {'read_units': 6}}\n"
     ]
    }
   ],
   "source": [
    "print(results)"
   ]
  },
  {
   "cell_type": "markdown",
   "id": "c8e55cb7-c583-4303-9818-05fe73da6451",
   "metadata": {},
   "source": [
    "<b>Remarque:</b>\n",
    "this is not readable so we'll need to generate our correct answer using LLM"
   ]
  },
  {
   "cell_type": "markdown",
   "id": "2e4b5afe-f936-4e4d-97c8-ea5e3176f230",
   "metadata": {},
   "source": [
    "## integrating LLM"
   ]
  },
  {
   "cell_type": "code",
   "execution_count": 56,
   "id": "c941340a-b312-46eb-8b94-73ffd1aa0a82",
   "metadata": {},
   "outputs": [],
   "source": [
    "prompt_template=\"\"\"\n",
    "Use the following pieces of information to answer the user's question.\n",
    "If you don't know the answer, just say that you don't know, don't try to make up an answer.\n",
    "\n",
    "Context: {context}\n",
    "Question: {question}\n",
    "\n",
    "Only return the helpful answer below and nothing else.\n",
    "Helpful answer:\n",
    "\"\"\""
   ]
  },
  {
   "cell_type": "code",
   "execution_count": 57,
   "id": "61541cc5-c8bc-42dc-a9c8-0d24b3142992",
   "metadata": {},
   "outputs": [],
   "source": [
    "PROMPT= PromptTemplate(template=prompt_template, input_variables=[\"context\",\"question\"])\n",
    "chain_type_kwargs={\"prompt\": PROMPT}"
   ]
  },
  {
   "cell_type": "code",
   "execution_count": 58,
   "id": "343c437d-b70a-4932-8d63-211d3dd06060",
   "metadata": {},
   "outputs": [],
   "source": [
    "llm=CTransformers(model=\"./model/llama-2-7b-chat.ggmlv3.q4_0.bin\",\n",
    "                  model_type=\"llama\",\n",
    "                  config={'max_new_tokens':522,\n",
    "                          'temperature':0.8})"
   ]
  },
  {
   "cell_type": "code",
   "execution_count": 65,
   "id": "8a739e51-5ad8-494b-bd79-b021f44585b7",
   "metadata": {},
   "outputs": [],
   "source": [
    "from langchain.vectorstores import Pinecone as LangchainPinecone\n",
    "import torch\n",
    "\n",
    "text_field = \"text\"\n",
    "device = 'cuda' if torch.cuda.is_available() else 'cpu'\n",
    "model = SentenceTransformer('all-MiniLM-L6-v2', device=device)\n",
    "vectorstore = LangchainPinecone(index, model.encode, text_field)"
   ]
  },
  {
   "cell_type": "code",
   "execution_count": 67,
   "id": "9f11abec-822d-4e9d-92af-e394cd086eeb",
   "metadata": {},
   "outputs": [],
   "source": [
    "qa=RetrievalQA.from_chain_type(\n",
    "    llm=llm,\n",
    "    chain_type=\"stuff\",\n",
    "    retriever=vectorstore.as_retriever(search_kwargs={'k':2}),\n",
    "    return_source_documents=True,\n",
    "    chain_type_kwargs=chain_type_kwargs)"
   ]
  },
  {
   "cell_type": "code",
   "execution_count": 78,
   "id": "b4001a60-f15f-45de-9d87-21e2e769dec1",
   "metadata": {},
   "outputs": [],
   "source": [
    "results = self._index.query(\n",
    "    vector=[query_obj],\n",
    "    top_k=k,\n",
    "    include_metadata=True,\n",
    "    namespace=namespace,\n",
    "    filter=filter\n",
    ")"
   ]
  },
  {
   "cell_type": "code",
   "execution_count": 79,
   "id": "055906ee-356b-4fdb-9ebd-482ea9307fa1",
   "metadata": {},
   "outputs": [
    {
     "name": "stdin",
     "output_type": "stream",
     "text": [
      "Input Prompt: what's a Horsemint ?\n"
     ]
    },
    {
     "ename": "ValueError",
     "evalue": "The argument order for `query()` has changed; please use keyword arguments instead of positional arguments. Example: index.query(vector=[0.1, 0.2, 0.3], top_k=10, namespace='my_namespace')",
     "output_type": "error",
     "traceback": [
      "\u001b[0;31m---------------------------------------------------------------------------\u001b[0m",
      "\u001b[0;31mValueError\u001b[0m                                Traceback (most recent call last)",
      "Cell \u001b[0;32mIn[79], line 8\u001b[0m\n\u001b[1;32m      5\u001b[0m     \u001b[38;5;28mprint\u001b[39m(\u001b[38;5;124m\"\u001b[39m\u001b[38;5;124mExiting the chatbot. Goodbye!\u001b[39m\u001b[38;5;124m\"\u001b[39m)\n\u001b[1;32m      6\u001b[0m     \u001b[38;5;28;01mbreak\u001b[39;00m\n\u001b[0;32m----> 8\u001b[0m result\u001b[38;5;241m=\u001b[39m\u001b[43mqa1\u001b[49m\u001b[43m(\u001b[49m\u001b[43m{\u001b[49m\u001b[38;5;124;43m\"\u001b[39;49m\u001b[38;5;124;43mquery\u001b[39;49m\u001b[38;5;124;43m\"\u001b[39;49m\u001b[43m:\u001b[49m\u001b[43muser_input\u001b[49m\u001b[43m}\u001b[49m\u001b[43m)\u001b[49m\n\u001b[1;32m      9\u001b[0m \u001b[38;5;28mprint\u001b[39m(\u001b[38;5;124m\"\u001b[39m\u001b[38;5;124mResponse:\u001b[39m\u001b[38;5;124m\"\u001b[39m, result[\u001b[38;5;124m\"\u001b[39m\u001b[38;5;124mresult\u001b[39m\u001b[38;5;124m\"\u001b[39m])\n",
      "File \u001b[0;32m~/Herbal-Medicine-Chatbot-using-Llama2/HerbMedBot/lib/python3.8/site-packages/langchain/chains/base.py:181\u001b[0m, in \u001b[0;36mChain.__call__\u001b[0;34m(self, inputs, return_only_outputs, callbacks, tags, metadata, include_run_info)\u001b[0m\n\u001b[1;32m    179\u001b[0m \u001b[38;5;28;01mexcept\u001b[39;00m (\u001b[38;5;167;01mKeyboardInterrupt\u001b[39;00m, \u001b[38;5;167;01mException\u001b[39;00m) \u001b[38;5;28;01mas\u001b[39;00m e:\n\u001b[1;32m    180\u001b[0m     run_manager\u001b[38;5;241m.\u001b[39mon_chain_error(e)\n\u001b[0;32m--> 181\u001b[0m     \u001b[38;5;28;01mraise\u001b[39;00m e\n\u001b[1;32m    182\u001b[0m run_manager\u001b[38;5;241m.\u001b[39mon_chain_end(outputs)\n\u001b[1;32m    183\u001b[0m final_outputs: Dict[\u001b[38;5;28mstr\u001b[39m, Any] \u001b[38;5;241m=\u001b[39m \u001b[38;5;28mself\u001b[39m\u001b[38;5;241m.\u001b[39mprep_outputs(\n\u001b[1;32m    184\u001b[0m     inputs, outputs, return_only_outputs\n\u001b[1;32m    185\u001b[0m )\n",
      "File \u001b[0;32m~/Herbal-Medicine-Chatbot-using-Llama2/HerbMedBot/lib/python3.8/site-packages/langchain/chains/base.py:175\u001b[0m, in \u001b[0;36mChain.__call__\u001b[0;34m(self, inputs, return_only_outputs, callbacks, tags, metadata, include_run_info)\u001b[0m\n\u001b[1;32m    169\u001b[0m run_manager \u001b[38;5;241m=\u001b[39m callback_manager\u001b[38;5;241m.\u001b[39mon_chain_start(\n\u001b[1;32m    170\u001b[0m     dumpd(\u001b[38;5;28mself\u001b[39m),\n\u001b[1;32m    171\u001b[0m     inputs,\n\u001b[1;32m    172\u001b[0m )\n\u001b[1;32m    173\u001b[0m \u001b[38;5;28;01mtry\u001b[39;00m:\n\u001b[1;32m    174\u001b[0m     outputs \u001b[38;5;241m=\u001b[39m (\n\u001b[0;32m--> 175\u001b[0m         \u001b[38;5;28;43mself\u001b[39;49m\u001b[38;5;241;43m.\u001b[39;49m\u001b[43m_call\u001b[49m\u001b[43m(\u001b[49m\u001b[43minputs\u001b[49m\u001b[43m,\u001b[49m\u001b[43m \u001b[49m\u001b[43mrun_manager\u001b[49m\u001b[38;5;241;43m=\u001b[39;49m\u001b[43mrun_manager\u001b[49m\u001b[43m)\u001b[49m\n\u001b[1;32m    176\u001b[0m         \u001b[38;5;28;01mif\u001b[39;00m new_arg_supported\n\u001b[1;32m    177\u001b[0m         \u001b[38;5;28;01melse\u001b[39;00m \u001b[38;5;28mself\u001b[39m\u001b[38;5;241m.\u001b[39m_call(inputs)\n\u001b[1;32m    178\u001b[0m     )\n\u001b[1;32m    179\u001b[0m \u001b[38;5;28;01mexcept\u001b[39;00m (\u001b[38;5;167;01mKeyboardInterrupt\u001b[39;00m, \u001b[38;5;167;01mException\u001b[39;00m) \u001b[38;5;28;01mas\u001b[39;00m e:\n\u001b[1;32m    180\u001b[0m     run_manager\u001b[38;5;241m.\u001b[39mon_chain_error(e)\n",
      "File \u001b[0;32m~/Herbal-Medicine-Chatbot-using-Llama2/HerbMedBot/lib/python3.8/site-packages/langchain/chains/retrieval_qa/base.py:128\u001b[0m, in \u001b[0;36mBaseRetrievalQA._call\u001b[0;34m(self, inputs, run_manager)\u001b[0m\n\u001b[1;32m    124\u001b[0m accepts_run_manager \u001b[38;5;241m=\u001b[39m (\n\u001b[1;32m    125\u001b[0m     \u001b[38;5;124m\"\u001b[39m\u001b[38;5;124mrun_manager\u001b[39m\u001b[38;5;124m\"\u001b[39m \u001b[38;5;129;01min\u001b[39;00m inspect\u001b[38;5;241m.\u001b[39msignature(\u001b[38;5;28mself\u001b[39m\u001b[38;5;241m.\u001b[39m_get_docs)\u001b[38;5;241m.\u001b[39mparameters\n\u001b[1;32m    126\u001b[0m )\n\u001b[1;32m    127\u001b[0m \u001b[38;5;28;01mif\u001b[39;00m accepts_run_manager:\n\u001b[0;32m--> 128\u001b[0m     docs \u001b[38;5;241m=\u001b[39m \u001b[38;5;28;43mself\u001b[39;49m\u001b[38;5;241;43m.\u001b[39;49m\u001b[43m_get_docs\u001b[49m\u001b[43m(\u001b[49m\u001b[43mquestion\u001b[49m\u001b[43m,\u001b[49m\u001b[43m \u001b[49m\u001b[43mrun_manager\u001b[49m\u001b[38;5;241;43m=\u001b[39;49m\u001b[43m_run_manager\u001b[49m\u001b[43m)\u001b[49m\n\u001b[1;32m    129\u001b[0m \u001b[38;5;28;01melse\u001b[39;00m:\n\u001b[1;32m    130\u001b[0m     docs \u001b[38;5;241m=\u001b[39m \u001b[38;5;28mself\u001b[39m\u001b[38;5;241m.\u001b[39m_get_docs(question)  \u001b[38;5;66;03m# type: ignore[call-arg]\u001b[39;00m\n",
      "File \u001b[0;32m~/Herbal-Medicine-Chatbot-using-Llama2/HerbMedBot/lib/python3.8/site-packages/langchain/chains/retrieval_qa/base.py:208\u001b[0m, in \u001b[0;36mRetrievalQA._get_docs\u001b[0;34m(self, question, run_manager)\u001b[0m\n\u001b[1;32m    201\u001b[0m \u001b[38;5;28;01mdef\u001b[39;00m \u001b[38;5;21m_get_docs\u001b[39m(\n\u001b[1;32m    202\u001b[0m     \u001b[38;5;28mself\u001b[39m,\n\u001b[1;32m    203\u001b[0m     question: \u001b[38;5;28mstr\u001b[39m,\n\u001b[1;32m    204\u001b[0m     \u001b[38;5;241m*\u001b[39m,\n\u001b[1;32m    205\u001b[0m     run_manager: CallbackManagerForChainRun,\n\u001b[1;32m    206\u001b[0m ) \u001b[38;5;241m-\u001b[39m\u001b[38;5;241m>\u001b[39m List[Document]:\n\u001b[1;32m    207\u001b[0m \u001b[38;5;250m    \u001b[39m\u001b[38;5;124;03m\"\"\"Get docs.\"\"\"\u001b[39;00m\n\u001b[0;32m--> 208\u001b[0m     \u001b[38;5;28;01mreturn\u001b[39;00m \u001b[38;5;28;43mself\u001b[39;49m\u001b[38;5;241;43m.\u001b[39;49m\u001b[43mretriever\u001b[49m\u001b[38;5;241;43m.\u001b[39;49m\u001b[43mget_relevant_documents\u001b[49m\u001b[43m(\u001b[49m\n\u001b[1;32m    209\u001b[0m \u001b[43m        \u001b[49m\u001b[43mquestion\u001b[49m\u001b[43m,\u001b[49m\u001b[43m \u001b[49m\u001b[43mcallbacks\u001b[49m\u001b[38;5;241;43m=\u001b[39;49m\u001b[43mrun_manager\u001b[49m\u001b[38;5;241;43m.\u001b[39;49m\u001b[43mget_child\u001b[49m\u001b[43m(\u001b[49m\u001b[43m)\u001b[49m\n\u001b[1;32m    210\u001b[0m \u001b[43m    \u001b[49m\u001b[43m)\u001b[49m\n",
      "File \u001b[0;32m~/Herbal-Medicine-Chatbot-using-Llama2/HerbMedBot/lib/python3.8/site-packages/langchain/schema/retriever.py:181\u001b[0m, in \u001b[0;36mBaseRetriever.get_relevant_documents\u001b[0;34m(self, query, callbacks, tags, metadata, **kwargs)\u001b[0m\n\u001b[1;32m    179\u001b[0m \u001b[38;5;28;01mexcept\u001b[39;00m \u001b[38;5;167;01mException\u001b[39;00m \u001b[38;5;28;01mas\u001b[39;00m e:\n\u001b[1;32m    180\u001b[0m     run_manager\u001b[38;5;241m.\u001b[39mon_retriever_error(e)\n\u001b[0;32m--> 181\u001b[0m     \u001b[38;5;28;01mraise\u001b[39;00m e\n\u001b[1;32m    182\u001b[0m \u001b[38;5;28;01melse\u001b[39;00m:\n\u001b[1;32m    183\u001b[0m     run_manager\u001b[38;5;241m.\u001b[39mon_retriever_end(\n\u001b[1;32m    184\u001b[0m         result,\n\u001b[1;32m    185\u001b[0m         \u001b[38;5;241m*\u001b[39m\u001b[38;5;241m*\u001b[39mkwargs,\n\u001b[1;32m    186\u001b[0m     )\n",
      "File \u001b[0;32m~/Herbal-Medicine-Chatbot-using-Llama2/HerbMedBot/lib/python3.8/site-packages/langchain/schema/retriever.py:174\u001b[0m, in \u001b[0;36mBaseRetriever.get_relevant_documents\u001b[0;34m(self, query, callbacks, tags, metadata, **kwargs)\u001b[0m\n\u001b[1;32m    172\u001b[0m _kwargs \u001b[38;5;241m=\u001b[39m kwargs \u001b[38;5;28;01mif\u001b[39;00m \u001b[38;5;28mself\u001b[39m\u001b[38;5;241m.\u001b[39m_expects_other_args \u001b[38;5;28;01melse\u001b[39;00m {}\n\u001b[1;32m    173\u001b[0m \u001b[38;5;28;01mif\u001b[39;00m \u001b[38;5;28mself\u001b[39m\u001b[38;5;241m.\u001b[39m_new_arg_supported:\n\u001b[0;32m--> 174\u001b[0m     result \u001b[38;5;241m=\u001b[39m \u001b[38;5;28;43mself\u001b[39;49m\u001b[38;5;241;43m.\u001b[39;49m\u001b[43m_get_relevant_documents\u001b[49m\u001b[43m(\u001b[49m\n\u001b[1;32m    175\u001b[0m \u001b[43m        \u001b[49m\u001b[43mquery\u001b[49m\u001b[43m,\u001b[49m\u001b[43m \u001b[49m\u001b[43mrun_manager\u001b[49m\u001b[38;5;241;43m=\u001b[39;49m\u001b[43mrun_manager\u001b[49m\u001b[43m,\u001b[49m\u001b[43m \u001b[49m\u001b[38;5;241;43m*\u001b[39;49m\u001b[38;5;241;43m*\u001b[39;49m\u001b[43m_kwargs\u001b[49m\n\u001b[1;32m    176\u001b[0m \u001b[43m    \u001b[49m\u001b[43m)\u001b[49m\n\u001b[1;32m    177\u001b[0m \u001b[38;5;28;01melse\u001b[39;00m:\n\u001b[1;32m    178\u001b[0m     result \u001b[38;5;241m=\u001b[39m \u001b[38;5;28mself\u001b[39m\u001b[38;5;241m.\u001b[39m_get_relevant_documents(query, \u001b[38;5;241m*\u001b[39m\u001b[38;5;241m*\u001b[39m_kwargs)\n",
      "File \u001b[0;32m~/Herbal-Medicine-Chatbot-using-Llama2/HerbMedBot/lib/python3.8/site-packages/langchain/vectorstores/base.py:413\u001b[0m, in \u001b[0;36mVectorStoreRetriever._get_relevant_documents\u001b[0;34m(self, query, run_manager)\u001b[0m\n\u001b[1;32m    409\u001b[0m \u001b[38;5;28;01mdef\u001b[39;00m \u001b[38;5;21m_get_relevant_documents\u001b[39m(\n\u001b[1;32m    410\u001b[0m     \u001b[38;5;28mself\u001b[39m, query: \u001b[38;5;28mstr\u001b[39m, \u001b[38;5;241m*\u001b[39m, run_manager: CallbackManagerForRetrieverRun\n\u001b[1;32m    411\u001b[0m ) \u001b[38;5;241m-\u001b[39m\u001b[38;5;241m>\u001b[39m List[Document]:\n\u001b[1;32m    412\u001b[0m     \u001b[38;5;28;01mif\u001b[39;00m \u001b[38;5;28mself\u001b[39m\u001b[38;5;241m.\u001b[39msearch_type \u001b[38;5;241m==\u001b[39m \u001b[38;5;124m\"\u001b[39m\u001b[38;5;124msimilarity\u001b[39m\u001b[38;5;124m\"\u001b[39m:\n\u001b[0;32m--> 413\u001b[0m         docs \u001b[38;5;241m=\u001b[39m \u001b[38;5;28;43mself\u001b[39;49m\u001b[38;5;241;43m.\u001b[39;49m\u001b[43mvectorstore\u001b[49m\u001b[38;5;241;43m.\u001b[39;49m\u001b[43msimilarity_search\u001b[49m\u001b[43m(\u001b[49m\u001b[43mquery\u001b[49m\u001b[43m,\u001b[49m\u001b[43m \u001b[49m\u001b[38;5;241;43m*\u001b[39;49m\u001b[38;5;241;43m*\u001b[39;49m\u001b[38;5;28;43mself\u001b[39;49m\u001b[38;5;241;43m.\u001b[39;49m\u001b[43msearch_kwargs\u001b[49m\u001b[43m)\u001b[49m\n\u001b[1;32m    414\u001b[0m     \u001b[38;5;28;01melif\u001b[39;00m \u001b[38;5;28mself\u001b[39m\u001b[38;5;241m.\u001b[39msearch_type \u001b[38;5;241m==\u001b[39m \u001b[38;5;124m\"\u001b[39m\u001b[38;5;124msimilarity_score_threshold\u001b[39m\u001b[38;5;124m\"\u001b[39m:\n\u001b[1;32m    415\u001b[0m         docs_and_similarities \u001b[38;5;241m=\u001b[39m (\n\u001b[1;32m    416\u001b[0m             \u001b[38;5;28mself\u001b[39m\u001b[38;5;241m.\u001b[39mvectorstore\u001b[38;5;241m.\u001b[39msimilarity_search_with_relevance_scores(\n\u001b[1;32m    417\u001b[0m                 query, \u001b[38;5;241m*\u001b[39m\u001b[38;5;241m*\u001b[39m\u001b[38;5;28mself\u001b[39m\u001b[38;5;241m.\u001b[39msearch_kwargs\n\u001b[1;32m    418\u001b[0m             )\n\u001b[1;32m    419\u001b[0m         )\n",
      "File \u001b[0;32m~/Herbal-Medicine-Chatbot-using-Llama2/HerbMedBot/lib/python3.8/site-packages/langchain/vectorstores/pinecone.py:158\u001b[0m, in \u001b[0;36mPinecone.similarity_search\u001b[0;34m(self, query, k, filter, namespace, **kwargs)\u001b[0m\n\u001b[1;32m    139\u001b[0m \u001b[38;5;28;01mdef\u001b[39;00m \u001b[38;5;21msimilarity_search\u001b[39m(\n\u001b[1;32m    140\u001b[0m     \u001b[38;5;28mself\u001b[39m,\n\u001b[1;32m    141\u001b[0m     query: \u001b[38;5;28mstr\u001b[39m,\n\u001b[0;32m   (...)\u001b[0m\n\u001b[1;32m    145\u001b[0m     \u001b[38;5;241m*\u001b[39m\u001b[38;5;241m*\u001b[39mkwargs: Any,\n\u001b[1;32m    146\u001b[0m ) \u001b[38;5;241m-\u001b[39m\u001b[38;5;241m>\u001b[39m List[Document]:\n\u001b[1;32m    147\u001b[0m \u001b[38;5;250m    \u001b[39m\u001b[38;5;124;03m\"\"\"Return pinecone documents most similar to query.\u001b[39;00m\n\u001b[1;32m    148\u001b[0m \n\u001b[1;32m    149\u001b[0m \u001b[38;5;124;03m    Args:\u001b[39;00m\n\u001b[0;32m   (...)\u001b[0m\n\u001b[1;32m    156\u001b[0m \u001b[38;5;124;03m        List of Documents most similar to the query and score for each\u001b[39;00m\n\u001b[1;32m    157\u001b[0m \u001b[38;5;124;03m    \"\"\"\u001b[39;00m\n\u001b[0;32m--> 158\u001b[0m     docs_and_scores \u001b[38;5;241m=\u001b[39m \u001b[38;5;28;43mself\u001b[39;49m\u001b[38;5;241;43m.\u001b[39;49m\u001b[43msimilarity_search_with_score\u001b[49m\u001b[43m(\u001b[49m\n\u001b[1;32m    159\u001b[0m \u001b[43m        \u001b[49m\u001b[43mquery\u001b[49m\u001b[43m,\u001b[49m\u001b[43m \u001b[49m\u001b[43mk\u001b[49m\u001b[38;5;241;43m=\u001b[39;49m\u001b[43mk\u001b[49m\u001b[43m,\u001b[49m\u001b[43m \u001b[49m\u001b[38;5;28;43mfilter\u001b[39;49m\u001b[38;5;241;43m=\u001b[39;49m\u001b[38;5;28;43mfilter\u001b[39;49m\u001b[43m,\u001b[49m\u001b[43m \u001b[49m\u001b[43mnamespace\u001b[49m\u001b[38;5;241;43m=\u001b[39;49m\u001b[43mnamespace\u001b[49m\u001b[43m,\u001b[49m\u001b[43m \u001b[49m\u001b[38;5;241;43m*\u001b[39;49m\u001b[38;5;241;43m*\u001b[39;49m\u001b[43mkwargs\u001b[49m\n\u001b[1;32m    160\u001b[0m \u001b[43m    \u001b[49m\u001b[43m)\u001b[49m\n\u001b[1;32m    161\u001b[0m     \u001b[38;5;28;01mreturn\u001b[39;00m [doc \u001b[38;5;28;01mfor\u001b[39;00m doc, _ \u001b[38;5;129;01min\u001b[39;00m docs_and_scores]\n",
      "File \u001b[0;32m~/Herbal-Medicine-Chatbot-using-Llama2/HerbMedBot/lib/python3.8/site-packages/langchain/vectorstores/pinecone.py:120\u001b[0m, in \u001b[0;36mPinecone.similarity_search_with_score\u001b[0;34m(self, query, k, filter, namespace)\u001b[0m\n\u001b[1;32m    118\u001b[0m query_obj \u001b[38;5;241m=\u001b[39m \u001b[38;5;28mself\u001b[39m\u001b[38;5;241m.\u001b[39m_embedding_function(query)\n\u001b[1;32m    119\u001b[0m docs \u001b[38;5;241m=\u001b[39m []\n\u001b[0;32m--> 120\u001b[0m results \u001b[38;5;241m=\u001b[39m \u001b[38;5;28;43mself\u001b[39;49m\u001b[38;5;241;43m.\u001b[39;49m\u001b[43m_index\u001b[49m\u001b[38;5;241;43m.\u001b[39;49m\u001b[43mquery\u001b[49m\u001b[43m(\u001b[49m\n\u001b[1;32m    121\u001b[0m \u001b[43m    \u001b[49m\u001b[43m[\u001b[49m\u001b[43mquery_obj\u001b[49m\u001b[43m]\u001b[49m\u001b[43m,\u001b[49m\n\u001b[1;32m    122\u001b[0m \u001b[43m    \u001b[49m\u001b[43mtop_k\u001b[49m\u001b[38;5;241;43m=\u001b[39;49m\u001b[43mk\u001b[49m\u001b[43m,\u001b[49m\n\u001b[1;32m    123\u001b[0m \u001b[43m    \u001b[49m\u001b[43minclude_metadata\u001b[49m\u001b[38;5;241;43m=\u001b[39;49m\u001b[38;5;28;43;01mTrue\u001b[39;49;00m\u001b[43m,\u001b[49m\n\u001b[1;32m    124\u001b[0m \u001b[43m    \u001b[49m\u001b[43mnamespace\u001b[49m\u001b[38;5;241;43m=\u001b[39;49m\u001b[43mnamespace\u001b[49m\u001b[43m,\u001b[49m\n\u001b[1;32m    125\u001b[0m \u001b[43m    \u001b[49m\u001b[38;5;28;43mfilter\u001b[39;49m\u001b[38;5;241;43m=\u001b[39;49m\u001b[38;5;28;43mfilter\u001b[39;49m\u001b[43m,\u001b[49m\n\u001b[1;32m    126\u001b[0m \u001b[43m\u001b[49m\u001b[43m)\u001b[49m\n\u001b[1;32m    127\u001b[0m \u001b[38;5;28;01mfor\u001b[39;00m res \u001b[38;5;129;01min\u001b[39;00m results[\u001b[38;5;124m\"\u001b[39m\u001b[38;5;124mmatches\u001b[39m\u001b[38;5;124m\"\u001b[39m]:\n\u001b[1;32m    128\u001b[0m     metadata \u001b[38;5;241m=\u001b[39m res[\u001b[38;5;124m\"\u001b[39m\u001b[38;5;124mmetadata\u001b[39m\u001b[38;5;124m\"\u001b[39m]\n",
      "File \u001b[0;32m~/Herbal-Medicine-Chatbot-using-Llama2/HerbMedBot/lib/python3.8/site-packages/pinecone/utils/error_handling.py:11\u001b[0m, in \u001b[0;36mvalidate_and_convert_errors.<locals>.inner_func\u001b[0;34m(*args, **kwargs)\u001b[0m\n\u001b[1;32m      8\u001b[0m \u001b[38;5;129m@wraps\u001b[39m(func)\n\u001b[1;32m      9\u001b[0m \u001b[38;5;28;01mdef\u001b[39;00m \u001b[38;5;21minner_func\u001b[39m(\u001b[38;5;241m*\u001b[39margs, \u001b[38;5;241m*\u001b[39m\u001b[38;5;241m*\u001b[39mkwargs):\n\u001b[1;32m     10\u001b[0m     \u001b[38;5;28;01mtry\u001b[39;00m:\n\u001b[0;32m---> 11\u001b[0m         \u001b[38;5;28;01mreturn\u001b[39;00m \u001b[43mfunc\u001b[49m\u001b[43m(\u001b[49m\u001b[38;5;241;43m*\u001b[39;49m\u001b[43margs\u001b[49m\u001b[43m,\u001b[49m\u001b[43m \u001b[49m\u001b[38;5;241;43m*\u001b[39;49m\u001b[38;5;241;43m*\u001b[39;49m\u001b[43mkwargs\u001b[49m\u001b[43m)\u001b[49m\n\u001b[1;32m     12\u001b[0m     \u001b[38;5;28;01mexcept\u001b[39;00m MaxRetryError \u001b[38;5;28;01mas\u001b[39;00m e:\n\u001b[1;32m     13\u001b[0m         \u001b[38;5;28;01mif\u001b[39;00m \u001b[38;5;28misinstance\u001b[39m(e\u001b[38;5;241m.\u001b[39mreason, ProtocolError):\n",
      "File \u001b[0;32m~/Herbal-Medicine-Chatbot-using-Llama2/HerbMedBot/lib/python3.8/site-packages/pinecone/data/index.py:406\u001b[0m, in \u001b[0;36mIndex.query\u001b[0;34m(self, top_k, vector, id, namespace, filter, include_values, include_metadata, sparse_vector, *args, **kwargs)\u001b[0m\n\u001b[1;32m    364\u001b[0m \u001b[38;5;250m\u001b[39m\u001b[38;5;124;03m\"\"\"\u001b[39;00m\n\u001b[1;32m    365\u001b[0m \u001b[38;5;124;03mThe Query operation searches a namespace, using a query vector.\u001b[39;00m\n\u001b[1;32m    366\u001b[0m \u001b[38;5;124;03mIt retrieves the ids of the most similar items in a namespace, along with their similarity scores.\u001b[39;00m\n\u001b[0;32m   (...)\u001b[0m\n\u001b[1;32m    402\u001b[0m \u001b[38;5;124;03m         and namespace name.\u001b[39;00m\n\u001b[1;32m    403\u001b[0m \u001b[38;5;124;03m\"\"\"\u001b[39;00m\n\u001b[1;32m    405\u001b[0m \u001b[38;5;28;01mif\u001b[39;00m \u001b[38;5;28mlen\u001b[39m(args) \u001b[38;5;241m>\u001b[39m \u001b[38;5;241m0\u001b[39m:\n\u001b[0;32m--> 406\u001b[0m     \u001b[38;5;28;01mraise\u001b[39;00m \u001b[38;5;167;01mValueError\u001b[39;00m(\n\u001b[1;32m    407\u001b[0m         \u001b[38;5;124m\"\u001b[39m\u001b[38;5;124mThe argument order for `query()` has changed; please use keyword arguments instead of positional arguments. Example: index.query(vector=[0.1, 0.2, 0.3], top_k=10, namespace=\u001b[39m\u001b[38;5;124m'\u001b[39m\u001b[38;5;124mmy_namespace\u001b[39m\u001b[38;5;124m'\u001b[39m\u001b[38;5;124m)\u001b[39m\u001b[38;5;124m\"\u001b[39m\n\u001b[1;32m    408\u001b[0m     )\n\u001b[1;32m    410\u001b[0m \u001b[38;5;28;01mif\u001b[39;00m vector \u001b[38;5;129;01mis\u001b[39;00m \u001b[38;5;129;01mnot\u001b[39;00m \u001b[38;5;28;01mNone\u001b[39;00m \u001b[38;5;129;01mand\u001b[39;00m \u001b[38;5;28mid\u001b[39m \u001b[38;5;129;01mis\u001b[39;00m \u001b[38;5;129;01mnot\u001b[39;00m \u001b[38;5;28;01mNone\u001b[39;00m:\n\u001b[1;32m    411\u001b[0m     \u001b[38;5;28;01mraise\u001b[39;00m \u001b[38;5;167;01mValueError\u001b[39;00m(\u001b[38;5;124m\"\u001b[39m\u001b[38;5;124mCannot specify both `id` and `vector`\u001b[39m\u001b[38;5;124m\"\u001b[39m)\n",
      "\u001b[0;31mValueError\u001b[0m: The argument order for `query()` has changed; please use keyword arguments instead of positional arguments. Example: index.query(vector=[0.1, 0.2, 0.3], top_k=10, namespace='my_namespace')"
     ]
    }
   ],
   "source": [
    "while True:\n",
    "    user_input=input(f\"Input Prompt:\")\n",
    "\n",
    "    if user_input.lower() in [\"exit\", \"quit\", \"q\"]:\n",
    "        print(\"Exiting the chatbot. Goodbye!\")\n",
    "        break\n",
    "    \n",
    "    result=qa1({\"query\":user_input})\n",
    "    print(\"Response:\", result[\"result\"])"
   ]
  },
  {
   "cell_type": "code",
   "execution_count": 80,
   "id": "fdc64c17-9bd1-4dc4-9f32-e4a8d77923cf",
   "metadata": {},
   "outputs": [],
   "source": [
    "from langchain.llms import LlamaCpp\n",
    "from langchain.embeddings import LlamaCppEmbeddings\n",
    "from langchain.prompts import PromptTemplate\n",
    "from langchain.chains import RetrievalQA\n",
    "\n",
    "# Create a custom prompt template\n",
    "prompt_template = \"\"\"Use the following pieces of information to answer the user's question.\n",
    "If you don't know the answer, just say that you don't know, don't try to make up an answer.\n",
    "\n",
    "Context: {context}\n",
    "Question: {question}\n",
    "\n",
    "Only return the helpful answer below and nothing else.\n",
    "Helpful answer:\n",
    "\"\"\"\n",
    "\n",
    "PROMPT = PromptTemplate(\n",
    "    template=prompt_template, input_variables=[\"context\", \"question\"]\n",
    ")\n",
    "\n",
    "# Initialize the RetrievalQA object\n",
    "qa = RetrievalQA.from_chain_type(\n",
    "    llm=llm,\n",
    "    chain_type=\"stuff\",\n",
    "    retriever=vectorstore.as_retriever(),\n",
    "    return_source_documents=True,\n",
    "    chain_type_kwargs={\"prompt\": PROMPT}\n",
    ")"
   ]
  },
  {
   "cell_type": "code",
   "execution_count": 81,
   "id": "e6fb37a0-5c00-4ea7-921a-e2dc2e9949f9",
   "metadata": {},
   "outputs": [],
   "source": [
    "def rag_query(question: str) -> str:\n",
    "    # create query vec\n",
    "    query_vec = embed_docs(question)[0]\n",
    "    # query pinecone\n",
    "    res = index.query(vector=query_vec, top_k=5, include_metadata=True)\n",
    "    # get contexts\n",
    "    contexts = [match.metadata[\"text\"] for match in res.matches]\n",
    "    # build the multiple contexts string\n",
    "    context_str = construct_context(contexts=contexts)\n",
    "    # create our retrieval augmented prompt\n",
    "    payload = create_payload(question, context_str)\n",
    "    # make prediction\n",
    "    out = predictor.predict(payload, custom_attributes='accept_eula=true')\n",
    "    return out[0][\"generation\"][\"content\"]"
   ]
  },
  {
   "cell_type": "code",
   "execution_count": 82,
   "id": "3b44dd4e-8779-4592-8cf8-1df42258f261",
   "metadata": {},
   "outputs": [
    {
     "ename": "NameError",
     "evalue": "name 'embed_docs' is not defined",
     "output_type": "error",
     "traceback": [
      "\u001b[0;31m---------------------------------------------------------------------------\u001b[0m",
      "\u001b[0;31mNameError\u001b[0m                                 Traceback (most recent call last)",
      "Cell \u001b[0;32mIn[82], line 1\u001b[0m\n\u001b[0;32m----> 1\u001b[0m \u001b[43mrag_query\u001b[49m\u001b[43m(\u001b[49m\u001b[38;5;124;43m\"\u001b[39;49m\u001b[38;5;124;43mWhat\u001b[39;49m\u001b[38;5;124;43m'\u001b[39;49m\u001b[38;5;124;43ms the HORSEMINT?\u001b[39;49m\u001b[38;5;124;43m\"\u001b[39;49m\u001b[43m)\u001b[49m\n",
      "Cell \u001b[0;32mIn[81], line 3\u001b[0m, in \u001b[0;36mrag_query\u001b[0;34m(question)\u001b[0m\n\u001b[1;32m      1\u001b[0m \u001b[38;5;28;01mdef\u001b[39;00m \u001b[38;5;21mrag_query\u001b[39m(question: \u001b[38;5;28mstr\u001b[39m) \u001b[38;5;241m-\u001b[39m\u001b[38;5;241m>\u001b[39m \u001b[38;5;28mstr\u001b[39m:\n\u001b[1;32m      2\u001b[0m     \u001b[38;5;66;03m# create query vec\u001b[39;00m\n\u001b[0;32m----> 3\u001b[0m     query_vec \u001b[38;5;241m=\u001b[39m \u001b[43membed_docs\u001b[49m(question)[\u001b[38;5;241m0\u001b[39m]\n\u001b[1;32m      4\u001b[0m     \u001b[38;5;66;03m# query pinecone\u001b[39;00m\n\u001b[1;32m      5\u001b[0m     res \u001b[38;5;241m=\u001b[39m index\u001b[38;5;241m.\u001b[39mquery(vector\u001b[38;5;241m=\u001b[39mquery_vec, top_k\u001b[38;5;241m=\u001b[39m\u001b[38;5;241m5\u001b[39m, include_metadata\u001b[38;5;241m=\u001b[39m\u001b[38;5;28;01mTrue\u001b[39;00m)\n",
      "\u001b[0;31mNameError\u001b[0m: name 'embed_docs' is not defined"
     ]
    }
   ],
   "source": [
    "rag_query(\"What's the HORSEMINT?\")"
   ]
  },
  {
   "cell_type": "code",
   "execution_count": null,
   "id": "e48fa959-d984-4d4c-b3f9-c6e29e812612",
   "metadata": {},
   "outputs": [],
   "source": []
  }
 ],
 "metadata": {
  "kernelspec": {
   "display_name": "Python 3 (ipykernel)",
   "language": "python",
   "name": "python3"
  },
  "language_info": {
   "codemirror_mode": {
    "name": "ipython",
    "version": 3
   },
   "file_extension": ".py",
   "mimetype": "text/x-python",
   "name": "python",
   "nbconvert_exporter": "python",
   "pygments_lexer": "ipython3",
   "version": "3.8.10"
  }
 },
 "nbformat": 4,
 "nbformat_minor": 5
}
